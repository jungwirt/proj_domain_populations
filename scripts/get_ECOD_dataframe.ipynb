{
 "cells": [
  {
   "cell_type": "code",
   "execution_count": 37,
   "metadata": {},
   "outputs": [],
   "source": [
    "# This script is used to generate a table with data on ECOD domains. \n",
    "# Based on the input data, which is 5 files describing domains and genomes from the Refseq database in various ways, \n",
    "# we finally get a table in which each row describes a single domain in a specific genome."
   ]
  },
  {
   "cell_type": "code",
   "execution_count": 1,
   "metadata": {},
   "outputs": [],
   "source": [
    "# all the necessary imports to make the script work\n",
    "\n",
    "import pandas as pd\n",
    "import numpy as np\n",
    "import subprocess\n",
    "from Bio import Entrez, SeqIO\n",
    "from Bio.SeqFeature import SeqFeature, FeatureLocation\n"
   ]
  },
  {
   "cell_type": "code",
   "execution_count": 2,
   "metadata": {},
   "outputs": [],
   "source": [
    "# thresholds against which domains that do not meet the specified assumptions will be filtered out\n",
    "\n",
    "MINIMUM_QCOV_FOR_DOMAIN = 0\n",
    "MINIMUM_SCOV_FOR_DOMAIN = 0.7\n",
    "MINIMUM_PROB_FOR_DOMAIN = 90\n",
    "MAXIMUM_EVAL_FOR_DOMAIN = 10**(-2)"
   ]
  },
  {
   "cell_type": "code",
   "execution_count": 3,
   "metadata": {},
   "outputs": [],
   "source": [
    "# Paths to the input files, depending on where the file is the paths should be adjusted. The paths shown here are that of the project author. \n",
    "\n",
    "# The ECOD_DOMAIN_DESCRIPTION_FILEPATH variable describes the exact ECOD domain architecture with all its names, hierarchy levels and identifiers. \n",
    "# This is a file that can be directly downloaded from: http://prodata.swmed.edu/ecod/complete/distribution\n",
    "ECOD_DOMAIN_DESCRIPTION_FILEPATH = \"C:/Users/maksn/Desktop/magi_maks/input_files/ecod.develop283.domains.txt\"\n",
    "\n",
    "\n",
    "\n",
    "# The ECOD_DOMAIN_HITS_PATH variable specifies the path to a file with the exact results from HHblits, that is, with the results of how many domains we find for the given reprseq. \n",
    "# Such a file contains information about the identifier of the found domain, its probability, its names from T and F levels.\n",
    "ECOD_DOMAIN_HITS_PATH = \"C:/Users/maksn/Desktop/magi_maks/input_files/hhblits-ecod.txt\"\n",
    "\n",
    "\n",
    "# The variable REFSEQ_PROTEIN_NAME_TABLE specifies the path to the file in which there is a table with a description from which \n",
    "# genome and from which part of it we take reprseq (representative protein), based on these proteins we predict the occurring ECOD domains.\n",
    "REFSEQ_PROTEIN_NAME_TABLE = \"C:/Users/maksn/Desktop/magi_maks/input_files/name-table-full.txt\""
   ]
  },
  {
   "cell_type": "code",
   "execution_count": 4,
   "metadata": {},
   "outputs": [],
   "source": [
    "# Auxiliary functions to process files\n",
    "\n",
    "\n",
    "# Function rounds and changes to numeric some columns from processed dataframe\n",
    "\n",
    "def parse_hhr_raw_result(hhblits_table):\n",
    "    hhblits_table['qstart'] = pd.to_numeric(hhblits_table['qstart'])\n",
    "    hhblits_table['qend'] = pd.to_numeric(hhblits_table['qend'])\n",
    "    hhblits_table['sstart'] = pd.to_numeric(hhblits_table['sstart'])\n",
    "    hhblits_table['send'] = pd.to_numeric(hhblits_table['send'])\n",
    "    hhblits_table['prob'] = pd.to_numeric(hhblits_table['prob'])\n",
    "    hhblits_table['eval'] = pd.to_numeric(hhblits_table['eval'])\n",
    "    hhblits_table['qcov'] = round((hhblits_table['qend'] - hhblits_table['qstart'] + 1) / hhblits_table['qlength'], 4)\n",
    "    hhblits_table['scov'] = round((hhblits_table['send'] - hhblits_table['sstart'] + 1) / hhblits_table['slength'], 4)\n",
    "    hhblits_table['annotation'] = hhblits_table['annot'].str.lower()\n",
    "    hhblits_table['hit_length'] = hhblits_table['qend'] - hhblits_table['qstart'] + 1\n",
    "    return hhblits_table\n",
    "\n",
    "\n",
    "\n",
    "# Function gets the uid from subject of ECOD domains hhblits subject\n",
    "\n",
    "def get_uid_from_ecod_subject_id(subject_id):\n",
    "    uid = subject_id.split(\"_\")[1]\n",
    "    return uid\n",
    "\n",
    "\n",
    "# Function gets the identifier of domain from ECOD domains hhblits subject\n",
    "\n",
    "def get_ecod_domain_id_from_ecod_subject_id(subject_id):\n",
    "    ecod_domain_id = subject_id.split(\"_\")[2]\n",
    "    return ecod_domain_id\n",
    "\n",
    "\n",
    "\n",
    "# This function is designed to integrate and consolidate annotations from ecod_domain_descriptions with a list of \n",
    "# distinct domains, facilitating further analysis and understanding of domain-specific information\n",
    "\n",
    "def get_ecod_annotation_mapping(distinct_domains, ecod_domain_descriptions):\n",
    "    unclassified_f_names = [\"F_UNCLASSIFIED\", \"UNK_F_TYPE\"]\n",
    "    \n",
    "    # Splitting f_id column into separate columns\n",
    "    ecod_domain_descriptions[['x_ind', 'h_ind', 't_ind', 'f_ind']] = ecod_domain_descriptions['f_id'].str.split('.', expand=True)\n",
    "\n",
    "    # Creating f_unclassified column\n",
    "    ecod_domain_descriptions['f_unclassified'] = ecod_domain_descriptions['f_ind'].isna()\n",
    "\n",
    "    # Replacing NA with empty string in f_ind column\n",
    "    ecod_domain_descriptions['f_ind'] = ecod_domain_descriptions['f_ind'].fillna('NA')\n",
    "\n",
    "    # Renaming f_id column to f_id_orig\n",
    "    ecod_domain_descriptions.rename(columns={'f_id': 'f_id_orig'}, inplace=True)\n",
    "\n",
    "    # Creating additional columns for hierarchical identifiers\n",
    "    ecod_domain_descriptions['x_id'] = ecod_domain_descriptions['x_ind']\n",
    "    ecod_domain_descriptions['h_id'] = ecod_domain_descriptions['x_ind'] + '.' + ecod_domain_descriptions['h_ind']\n",
    "    ecod_domain_descriptions['t_id'] = ecod_domain_descriptions['x_ind'] + '.' + ecod_domain_descriptions['h_ind'] + '.' + ecod_domain_descriptions['t_ind']\n",
    "    ecod_domain_descriptions['f_id'] = ecod_domain_descriptions['x_ind'] + '.' + ecod_domain_descriptions['h_ind'] + '.' + ecod_domain_descriptions['t_ind'] + '.' + ecod_domain_descriptions['f_ind']\n",
    "    \n",
    "    # Creating ecod.annotation.map DataFrame\n",
    "    ecod_annotation_map = pd.DataFrame({'domain': distinct_domains})\n",
    "    ecod_annotation_map['#uid'] = ecod_annotation_map['domain'].apply(lambda x: get_uid_from_ecod_subject_id(x)).astype(np.int64)\n",
    "    ecod_annotation_map['ecod_domain_id'] = ecod_annotation_map['domain'].apply(lambda x: get_ecod_domain_id_from_ecod_subject_id(x))\n",
    "    \n",
    "    # Joining DataFrames\n",
    "    ecod_annotation_map = ecod_annotation_map.merge(ecod_domain_descriptions, left_on=['#uid', 'ecod_domain_id'], right_on=['#uid', 'ecod_domain_id'], how='left')\n",
    "    \n",
    "    return ecod_annotation_map"
   ]
  },
  {
   "cell_type": "code",
   "execution_count": 5,
   "metadata": {},
   "outputs": [],
   "source": [
    "# Read and process ECOD hits\n",
    "ecod_domain_descriptions = pd.read_csv(ECOD_DOMAIN_DESCRIPTION_FILEPATH, skiprows=4, sep='\\t')\n",
    "ecod_domain_descriptions = ecod_domain_descriptions[['#uid', 'ecod_domain_id', 'arch_name', 'x_name', 'h_name', 't_name', 'f_name', 'f_id']]"
   ]
  },
  {
   "cell_type": "code",
   "execution_count": 6,
   "metadata": {},
   "outputs": [],
   "source": [
    "# Load ECOD domain hits data from a CSV file into a DataFrame.\n",
    "ecod_domain_hits_all = pd.read_csv(ECOD_DOMAIN_HITS_PATH, sep=',')\n",
    "\n",
    "# Parse and process the raw HHR results in the DataFrame.\n",
    "ecod_domain_hits_all = parse_hhr_raw_result(ecod_domain_hits_all)\n",
    "\n",
    "# Filter the DataFrame to include only domain hits that meet specified criteria:\n",
    "# - Maximum E-value threshold for domain hits.\n",
    "# - Minimum query coverage (qcov) threshold for domain hits.\n",
    "# - Minimum subject coverage (scov) threshold for domain hits.\n",
    "# - Minimum probability (prob) threshold for domain hits.\n",
    "ecod_domain_hits_all = ecod_domain_hits_all[\n",
    "    (ecod_domain_hits_all['eval'] <= MAXIMUM_EVAL_FOR_DOMAIN) & \n",
    "    (ecod_domain_hits_all['qcov'] >= MINIMUM_QCOV_FOR_DOMAIN) & \n",
    "    (ecod_domain_hits_all['scov'] >= MINIMUM_SCOV_FOR_DOMAIN) & \n",
    "    (ecod_domain_hits_all['prob'] >= MINIMUM_PROB_FOR_DOMAIN)\n",
    "    ]\n",
    "\n",
    "# Rename the 'sname' column to 'domain' for clarity and consistency.\n",
    "ecod_domain_hits_all = ecod_domain_hits_all.rename(columns={'sname': 'domain'})"
   ]
  },
  {
   "cell_type": "code",
   "execution_count": 8,
   "metadata": {},
   "outputs": [],
   "source": [
    "# Retrieve unique domain names from the 'domain' column in ecod_domain_hits_all DataFrame.\n",
    "distinct_domains = ecod_domain_hits_all['domain'].unique()\n",
    "\n",
    "# Generate an annotation map using distinct_domains and ecod_domain_descriptions DataFrame.\n",
    "ecod_annotation_map = get_ecod_annotation_mapping(distinct_domains=distinct_domains, ecod_domain_descriptions=ecod_domain_descriptions)\n",
    "\n",
    "# Select specific columns of interest from ecod_annotation_map DataFrame.\n",
    "ecod_annotation_map = ecod_annotation_map[['domain', 'h_id', 't_id', 'f_id', 'x_name', 'h_name', 't_name', 'f_name']]"
   ]
  },
  {
   "cell_type": "code",
   "execution_count": 9,
   "metadata": {},
   "outputs": [],
   "source": [
    "# Merge ecod_domain_hits_all DataFrame with ecod_annotation_map DataFrame based on 'domain' column.\n",
    "ecod_domains_hits = pd.merge(ecod_domain_hits_all, ecod_annotation_map, on='domain', how='left')"
   ]
  },
  {
   "cell_type": "code",
   "execution_count": 11,
   "metadata": {},
   "outputs": [],
   "source": [
    "# This merge operation allows for integrating protein name information from prot_names into ecod_domains_hits, \n",
    "# facilitating further analysis or annotation of domain hits with associated protein names.\n",
    "\n",
    "\n",
    "# Read the protein names table from REFSEQ_PROTEIN_NAME_TABLE into prot_names DataFrame.\n",
    "prot_names = pd.read_csv(REFSEQ_PROTEIN_NAME_TABLE)\n",
    "\n",
    "# Merge ecod_domains_hits DataFrame with prot_names DataFrame using 'qname' from ecod_domains_hits\n",
    "# and 'repr.name' from prot_names, performing a left join.\n",
    "ecod_domains_hits_to_orfs = pd.merge(ecod_domains_hits, prot_names, left_on='qname', right_on='repr.name', how='left')\n",
    "ecod_domains_hits_to_orfs.drop(columns=['repr.name'], inplace=True)"
   ]
  },
  {
   "cell_type": "code",
   "execution_count": 14,
   "metadata": {},
   "outputs": [],
   "source": [
    "# This code snippet effectively splits the 'ncbi.id' column into two separate columns ('genome_id' and 'gene_position'), \n",
    "# renames them appropriately, and then merges them back into the original DataFrame\n",
    "\n",
    "# Split the 'ncbi.id' column in ecod_domains_hits_to_orfs DataFrame by ':' and expand into separate columns.\n",
    "ecod_selected = ecod_domains_hits_to_orfs['ncbi.id'].str.split(':', expand=True)\n",
    "\n",
    "# Rename the newly created columns.\n",
    "ecod_selected.columns = ['genome_id', 'gene_position']\n",
    "\n",
    "# Concatenate the new columns with the original ecod_domains_hits_to_orfs DataFrame along axis 1 (columns).\n",
    "ecod_selected = pd.concat([ecod_domains_hits_to_orfs, ecod_selected], axis=1)"
   ]
  },
  {
   "cell_type": "code",
   "execution_count": 15,
   "metadata": {},
   "outputs": [],
   "source": [
    "# This code segment adds a new column 'strand' to the ecod_selected DataFrame, indicating the strand direction (1 for positive strand, -1 for \n",
    "# negative strand, and None for unspecified cases) based on the format of 'gene_position' entries.\n",
    "\n",
    "# Function definition to determine strand direction based on the entry format\n",
    "def get_strand(entry):\n",
    "    if entry.endswith('(+)'):\n",
    "        return 1\n",
    "    elif entry.endswith('(-)'):\n",
    "        return -1\n",
    "    else:\n",
    "        return None \n",
    "\n",
    "# Apply get_strand function to create a new 'strand' column based on 'gene_position' column\n",
    "ecod_selected['strand'] = ecod_selected['gene_position'].apply(lambda x: get_strand(x))"
   ]
  },
  {
   "cell_type": "code",
   "execution_count": 19,
   "metadata": {},
   "outputs": [],
   "source": [
    "# This code snippet prepares and cleans the data in ecod_selected DataFrame, extracting start and end positions for domains, converting \n",
    "# columns to numeric types, and creating a unique identifier 'ncbi_id' for each record.\n",
    "\n",
    "# Remove the last 3 characters from 'gene_position' column and assign to 'gene_position_clean'\n",
    "ecod_selected['gene_position_clean'] = ecod_selected['gene_position'].str[:-3]\n",
    "\n",
    "# Split 'gene_position_clean' column by '-' delimiter and expand into separate 'gene_start' and 'gene_end' columns\n",
    "ecod_selected[['gene_start', 'gene_end']] = ecod_selected['gene_position_clean'].str.split('-', expand=True)\n",
    "\n",
    "# Convert 'gene_start' and 'gene_end' columns to numeric type, coercing errors to NaN\n",
    "ecod_selected['gene_start'] = pd.to_numeric(ecod_selected['gene_start'], errors='coerce')\n",
    "ecod_selected['gene_end'] = pd.to_numeric(ecod_selected['gene_end'], errors='coerce')\n",
    "\n",
    "# Calculate 'domain_start' and 'domain_end' based on 'gene_start', 'qstart', 'qend' columns\n",
    "ecod_selected['domain_start'] = ecod_selected['gene_start'] + (ecod_selected['qstart'] - 1) * 3\n",
    "ecod_selected['domain_end'] = ecod_selected['domain_start'] + (ecod_selected['qend'] - 1) * 3\n",
    "\n",
    "# Concatenate 'genome_id' and 'gene_position' columns with ':' separator into 'ncbi_id' column\n",
    "ecod_selected['ncbi_id'] = ecod_selected['genome_id'] +\":\"+ ecod_selected['gene_position']"
   ]
  },
  {
   "cell_type": "code",
   "execution_count": 22,
   "metadata": {},
   "outputs": [],
   "source": [
    "# The text file surely.annot.protein.txt contains data on the mapping of representative proteins to their functions, extracted from \n",
    "# the PHROGs database. Specifically, this file contains two columns - the identifier of the protein and the identifier of the \n",
    "# function that has been predicted for the protein.\n",
    "anotacja_funkcjonalna_repr = pd.read_csv('C:/Users/maksn/Downloads/surely.annot.proteins.txt')\n",
    "anotacja_funkcjonalna_repr = anotacja_funkcjonalna_repr[[\"qname\", \"annotation.index\"]]\n",
    "\n",
    "# The text file annotation.indices.txt contains data on the mapping of representative proteins to their functions, taken from the \n",
    "# PHROGs database. Specifically, this file contains three columns - function identifier, function name and function category.\n",
    "anotacja_funkcjonalna_ind = pd.read_csv('C:/Users/maksn/Downloads/annotation.indices.txt')\n",
    "anotacja_funkcjonalna_ind = anotacja_funkcjonalna_ind.rename(columns={'annotation': 'func_annot', 'category': 'func_category'})\n",
    "\n",
    "# Merge two DataFrames based on the index of function column using left join.\n",
    "merged_functional = pd.merge(anotacja_funkcjonalna_repr, anotacja_funkcjonalna_ind, on='annotation.index', how='left')\n",
    "\n",
    "# Merge 'ecod_selected' DataFrame with 'merged_functional' DataFrame based on 'qname' column using left join\n",
    "ecod_selected = pd.merge(ecod_selected, merged_functional, on='qname', how='left')"
   ]
  },
  {
   "cell_type": "code",
   "execution_count": 32,
   "metadata": {},
   "outputs": [],
   "source": [
    "# Select specific columns from 'ecod_selected' DataFrame to form 'ecod_final'\n",
    "ecod_final = ecod_selected[['genome_id', 'gene_start', 'gene_end', 'domain_start', 'domain_end', 't_name', 'f_id', 'ncbi_id' , 'strand', 'func_annot', 'func_category']]\n",
    "\n",
    "# Rename the 'ncbi_id' column to 'gene_id' in 'ecod_final' DataFrame\n",
    "ecod_final = ecod_final.rename(columns={'ncbi_id':'gene_id'})"
   ]
  },
  {
   "cell_type": "code",
   "execution_count": 35,
   "metadata": {},
   "outputs": [],
   "source": [
    "# Save finalised ECOD domains dataframe into csv file\n",
    "ecod_final.to_csv('C:/Users/maksn/Downloads/ecod_final_to_clinker_annot.csv', index=False)"
   ]
  }
 ],
 "metadata": {
  "kernelspec": {
   "display_name": "base",
   "language": "python",
   "name": "python3"
  },
  "language_info": {
   "codemirror_mode": {
    "name": "ipython",
    "version": 3
   },
   "file_extension": ".py",
   "mimetype": "text/x-python",
   "name": "python",
   "nbconvert_exporter": "python",
   "pygments_lexer": "ipython3",
   "version": "3.11.7"
  }
 },
 "nbformat": 4,
 "nbformat_minor": 2
}
